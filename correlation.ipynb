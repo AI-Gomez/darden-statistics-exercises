{
 "cells": [
  {
   "cell_type": "markdown",
   "metadata": {},
   "source": [
    "# Comparing 2 Continuous Variables: Correlation\n",
    "\n",
    "- Pearson's correlation coefficient or **Pearson's r** is the test statistic we get from a correlation test\n",
    "- For discrete or non-normal data: Spearman's rank correlation\n",
    "- Compares 2 continuous variables\n",
    "- Unitless; tells us how much two variables tend to move together\n",
    "- $H_0$: there is no linear relationship between the two variables"
   ]
  },
  {
   "cell_type": "code",
   "execution_count": null,
   "metadata": {},
   "outputs": [],
   "source": [
    "from math import sqrt\n",
    "\n",
    "import numpy as np\n",
    "import pandas as pd\n",
    "import scipy.stats as stats\n",
    "import matplotlib.pyplot as plt"
   ]
  },
  {
   "cell_type": "code",
   "execution_count": null,
   "metadata": {},
   "outputs": [],
   "source": [
    "df = pd.read_csv('exam_scores.csv')\n",
    "df.head()"
   ]
  },
  {
   "cell_type": "markdown",
   "metadata": {},
   "source": [
    "## Example Test"
   ]
  },
  {
   "cell_type": "markdown",
   "metadata": {},
   "source": [
    "What's the relationship between exam score and hours studied?"
   ]
  },
  {
   "cell_type": "code",
   "execution_count": null,
   "metadata": {},
   "outputs": [],
   "source": [
    "df.plot.scatter(y='exam_score', x='hours_studied')"
   ]
  },
  {
   "cell_type": "markdown",
   "metadata": {},
   "source": [
    "Abbreviated Hypothesis Testing Procedure:\n",
    "\n",
    "1. Setup\n",
    "2. Calculate test statistic + p-value\n",
    "3. Conclude"
   ]
  },
  {
   "cell_type": "markdown",
   "metadata": {},
   "source": [
    "- $\\alpha = .05$\n",
    "- $H_0$: There is no linear relationship between exam score and number of hours studied.\n",
    "- $H_a$: There is a linear relationship between exam score and number of hours studied."
   ]
  },
  {
   "cell_type": "code",
   "execution_count": null,
   "metadata": {},
   "outputs": [],
   "source": [
    "x = df.hours_studied\n",
    "y = df.exam_score"
   ]
  },
  {
   "cell_type": "code",
   "execution_count": null,
   "metadata": {},
   "outputs": [],
   "source": [
    "r, p = stats.pearsonr(x, y)\n",
    "print('r =', r)\n",
    "print('p =', p)"
   ]
  },
  {
   "cell_type": "markdown",
   "metadata": {},
   "source": [
    "Conclusion:"
   ]
  },
  {
   "cell_type": "markdown",
   "metadata": {},
   "source": [
    "## Examples of Different Correlations"
   ]
  },
  {
   "cell_type": "code",
   "execution_count": null,
   "metadata": {},
   "outputs": [],
   "source": [
    "x = [1, 2, 3]\n",
    "y = [4, 5, 6]\n",
    "\n",
    "plt.plot(x, y, marker='o')\n",
    "plt.title('Perfect positive correlation, (r=1)')"
   ]
  },
  {
   "cell_type": "code",
   "execution_count": null,
   "metadata": {},
   "outputs": [],
   "source": [
    "x = [3, 2, 1]\n",
    "y = [1, 2, 3]\n",
    "\n",
    "plt.plot(x, y, marker='o')\n",
    "plt.title('Perfect negative correlation (r=-1)')"
   ]
  },
  {
   "cell_type": "code",
   "execution_count": null,
   "metadata": {},
   "outputs": [],
   "source": [
    "x = [1, 2, 3]\n",
    "y = [1, 1, 1]\n",
    "\n",
    "plt.plot(x, y, marker='o')\n",
    "plt.title('Absolutely no correlation (r=0)')"
   ]
  },
  {
   "cell_type": "code",
   "execution_count": null,
   "metadata": {},
   "outputs": [],
   "source": [
    "x = np.random.randn(100)\n",
    "y = np.random.randn(100)\n",
    "\n",
    "r, p = stats.pearsonr(x, y)\n",
    "\n",
    "plt.scatter(x, y)\n",
    "plt.title(r'no correlation, ($r \\approx 0$)', size=16)\n",
    "print('p =', p)\n",
    "print('r =', r)"
   ]
  },
  {
   "cell_type": "code",
   "execution_count": null,
   "metadata": {},
   "outputs": [],
   "source": [
    "x = np.random.randn(100)\n",
    "y = x + np.random.randn(100)\n",
    "\n",
    "r, p = stats.pearsonr(x, y)\n",
    "print('r =', r)\n",
    "print('p =', p)\n",
    "\n",
    "plt.scatter(x, y)"
   ]
  },
  {
   "cell_type": "markdown",
   "metadata": {},
   "source": [
    "## Correlation \"gotchas\"\n",
    "\n",
    "When looking at correlation, keep in mind:\n",
    "\n",
    "1. [Correlation is not causation!](https://xkcd.com/552/)\n",
    "2. This is just looking at a linear relationship\n",
    "3. Correlation itself just looks 2 variables, there could be more going on\n",
    "4. Correlation doesn't tell us how large the relationship is"
   ]
  },
  {
   "cell_type": "markdown",
   "metadata": {},
   "source": [
    "### Example: non-linear relationship"
   ]
  },
  {
   "cell_type": "code",
   "execution_count": null,
   "metadata": {},
   "outputs": [],
   "source": [
    "x = np.linspace(-3, 3)\n",
    "y = x ** 2\n",
    "\n",
    "r, p = stats.pearsonr(x, y)\n",
    "\n",
    "plt.scatter(x, y)\n",
    "print('r=', r)"
   ]
  },
  {
   "cell_type": "markdown",
   "metadata": {},
   "source": [
    "### Example: confounding variable"
   ]
  },
  {
   "cell_type": "code",
   "execution_count": null,
   "metadata": {},
   "outputs": [],
   "source": [
    "df.plot.scatter(y='exam_score', x='coffee_consumed')\n",
    "\n",
    "r, p = stats.pearsonr(df.exam_score, df.coffee_consumed)\n",
    "print('r=', r)"
   ]
  },
  {
   "cell_type": "code",
   "execution_count": null,
   "metadata": {},
   "outputs": [],
   "source": [
    "r, p = stats.pearsonr(df.coffee_consumed, df.hours_slept)\n",
    "df.plot.scatter(y='coffee_consumed', x='hours_slept')\n",
    "print('p=', p)\n",
    "print('r=', r)"
   ]
  },
  {
   "cell_type": "markdown",
   "metadata": {},
   "source": [
    "### Example: relationship magnitude"
   ]
  },
  {
   "cell_type": "code",
   "execution_count": null,
   "metadata": {},
   "outputs": [],
   "source": [
    "coffee_consumption = [0, 1, 2, 3, 4]\n",
    "exam_score = [80, 80.1, 80.2, 80.3, 80.4]\n",
    "\n",
    "r, p = stats.pearsonr(coffee_consumption, exam_score)\n",
    "\n",
    "plt.plot(coffee_consumption, exam_score, marker='o')\n",
    "plt.ylim(0, 100)\n",
    "print('r=', r)"
   ]
  },
  {
   "cell_type": "markdown",
   "metadata": {},
   "source": [
    "## Exercise Guidance\n",
    "\n",
    "What does it mean to \"control for\"?"
   ]
  }
 ],
 "metadata": {
  "kernelspec": {
   "display_name": "Python 3",
   "language": "python",
   "name": "python3"
  },
  "language_info": {
   "codemirror_mode": {
    "name": "ipython",
    "version": 3
   },
   "file_extension": ".py",
   "mimetype": "text/x-python",
   "name": "python",
   "nbconvert_exporter": "python",
   "pygments_lexer": "ipython3",
   "version": "3.7.3"
  }
 },
 "nbformat": 4,
 "nbformat_minor": 2
}
